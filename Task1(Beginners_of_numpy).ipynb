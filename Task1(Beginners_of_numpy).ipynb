{
  "nbformat": 4,
  "nbformat_minor": 0,
  "metadata": {
    "colab": {
      "provenance": [],
      "authorship_tag": "ABX9TyOPc3FVBgHPCGJajAE0Wo96",
      "include_colab_link": true
    },
    "kernelspec": {
      "name": "python3",
      "display_name": "Python 3"
    },
    "language_info": {
      "name": "python"
    }
  },
  "cells": [
    {
      "cell_type": "markdown",
      "metadata": {
        "id": "view-in-github",
        "colab_type": "text"
      },
      "source": [
        "<a href=\"https://colab.research.google.com/github/prakashkrishanan/Data-science/blob/main/Task1(Beginners_of_numpy).ipynb\" target=\"_parent\"><img src=\"https://colab.research.google.com/assets/colab-badge.svg\" alt=\"Open In Colab\"/></a>"
      ]
    },
    {
      "cell_type": "code",
      "source": [
        "import numpy as np\n",
        "#creating arrays\n",
        "print(np.array([1,2,3,4,5]))#create an simple array\n",
        "print(np.zeros(10))#create an array of 10 zeros\n",
        "print(np.ones(10))#create an array of 10 ones\n",
        "print(np.arange(15))#create an array range of 0 to 14\n",
        "print(np.linspace(1,5,5))#create an array with evenly spaced numbers over a specified range\n",
        "print(np.eye(3))#create a identity matrix with given specified value"
      ],
      "metadata": {
        "colab": {
          "base_uri": "https://localhost:8080/"
        },
        "id": "dE3brxklZXk4",
        "outputId": "90531e1c-857c-435d-dec9-86d95946db5e"
      },
      "execution_count": null,
      "outputs": [
        {
          "output_type": "stream",
          "name": "stdout",
          "text": [
            "[1 2 3 4 5]\n",
            "[0. 0. 0. 0. 0. 0. 0. 0. 0. 0.]\n",
            "[1. 1. 1. 1. 1. 1. 1. 1. 1. 1.]\n",
            "[ 0  1  2  3  4  5  6  7  8  9 10 11 12 13 14]\n",
            "[1. 2. 3. 4. 5.]\n",
            "[[1. 0. 0.]\n",
            " [0. 1. 0.]\n",
            " [0. 0. 1.]]\n"
          ]
        }
      ]
    },
    {
      "cell_type": "code",
      "source": [
        "#array information\n",
        "a=np.array([[[1,2,3],[4,5,6],[7,8,9]]])#indicates the no of rows and columns\n",
        "print(a.shape)\n",
        "print(a.ndim)#used to get the number of array dimensions\n",
        "print(a.size)#returns the total nubers of elements\n",
        "print(a.dtype)#returns the data type of the elements"
      ],
      "metadata": {
        "colab": {
          "base_uri": "https://localhost:8080/"
        },
        "id": "vqmXQNcwi3MD",
        "outputId": "fe5c32d6-3123-4187-e17d-0b9e6375cb46"
      },
      "execution_count": null,
      "outputs": [
        {
          "output_type": "stream",
          "name": "stdout",
          "text": [
            "(1, 3, 3)\n",
            "3\n",
            "9\n",
            "int64\n"
          ]
        }
      ]
    },
    {
      "cell_type": "code",
      "source": [
        "#array operations\n",
        "a=np.array([1,2,3])\n",
        "b=np.array([4,5,6])\n",
        "print(np.add(a,b))#element wise addition\n",
        "print(np.subtract(b,a))#element wise subtraction\n",
        "print(np.multiply(a,b))#element wise multiplication\n",
        "print(np.divide(b,a))#element wise divide\n",
        "print(np.dot(a,b))#returns the dot product value of two array"
      ],
      "metadata": {
        "colab": {
          "base_uri": "https://localhost:8080/"
        },
        "id": "H5JqnfkClzEz",
        "outputId": "b820a63a-4291-4a0e-bc60-1d5aa9256f3b"
      },
      "execution_count": null,
      "outputs": [
        {
          "output_type": "stream",
          "name": "stdout",
          "text": [
            "[5 7 9]\n",
            "[3 3 3]\n",
            "[ 4 10 18]\n",
            "[4.  2.5 2. ]\n",
            "32\n"
          ]
        }
      ]
    },
    {
      "cell_type": "code",
      "source": [
        "#array manipulation\n",
        "a=np.array([1,2,3,4])\n",
        "print(a.reshape(2,2))#reshaping the array without changing the values\n",
        "b=np.array([5,6,7,8])\n",
        "print(np.concatenate([a,b]))#cancatenate the two arrays\n",
        "print(np.split(a,[2,2]))#splitting the array to desired shape\n",
        "c=np.array([[1,2,3],[4,5,6]])\n",
        "print(c.transpose())#transpose the array"
      ],
      "metadata": {
        "colab": {
          "base_uri": "https://localhost:8080/"
        },
        "id": "XRFR-eh5oHxe",
        "outputId": "54a54d62-a155-46d4-fd31-656c7760b97b"
      },
      "execution_count": null,
      "outputs": [
        {
          "output_type": "stream",
          "name": "stdout",
          "text": [
            "[[1 2]\n",
            " [3 4]]\n",
            "[1 2 3 4 5 6 7 8]\n",
            "[array([1, 2]), array([], dtype=int64), array([3, 4])]\n",
            "[[1 4]\n",
            " [2 5]\n",
            " [3 6]]\n"
          ]
        }
      ]
    },
    {
      "cell_type": "code",
      "source": [
        "#mathemethical functions\n",
        "import numpy as np\n",
        "a=np.array([1,3,5])\n",
        "b=np.array([2,4,6])\n",
        "print(a+b)\n",
        "print(sum(a,b))#sum of array elements\n",
        "print(min(a))#to fint minimum element in array\n",
        "print(max(a))#to find maximum element in array\n",
        "print(np.mean(b))#to find mean value of an array\n",
        "print(np.median(b))#to find median value of an array\n",
        "print(np.std(a))#to finrd the standard deviation value in array"
      ],
      "metadata": {
        "id": "-3CpBtQitPVn",
        "colab": {
          "base_uri": "https://localhost:8080/"
        },
        "outputId": "423e9032-369c-4e24-e7f5-88a7be51507c"
      },
      "execution_count": null,
      "outputs": [
        {
          "output_type": "stream",
          "name": "stdout",
          "text": [
            "[ 3  7 11]\n",
            "[11 13 15]\n",
            "1\n",
            "5\n",
            "4.0\n",
            "4.0\n",
            "1.632993161855452\n"
          ]
        }
      ]
    },
    {
      "cell_type": "code",
      "source": [
        "#trignomentric functions\n",
        "a=np.array([2,4,5,8,10])\n",
        "print(np.exp(a))#to find the exponential value of array\n",
        "print(np.sqrt(a))#to find the sqaure root value of array\n",
        "print(np.sin(a))#to find the sin value of array\n",
        "print(np.cos(a))#to find the cosine value of array\n",
        "print(np.log(a))#to find the logarithm value of array\n",
        "print(np.tan(a))#to find the tangent value of array"
      ],
      "metadata": {
        "colab": {
          "base_uri": "https://localhost:8080/"
        },
        "id": "arMyrf7SuKuI",
        "outputId": "dafb6ce0-1310-49a2-f296-258148b75006"
      },
      "execution_count": null,
      "outputs": [
        {
          "output_type": "stream",
          "name": "stdout",
          "text": [
            "[7.38905610e+00 5.45981500e+01 1.48413159e+02 2.98095799e+03\n",
            " 2.20264658e+04]\n",
            "[1.41421356 2.         2.23606798 2.82842712 3.16227766]\n",
            "[ 0.90929743 -0.7568025  -0.95892427  0.98935825 -0.54402111]\n",
            "[-0.41614684 -0.65364362  0.28366219 -0.14550003 -0.83907153]\n",
            "[0.69314718 1.38629436 1.60943791 2.07944154 2.30258509]\n",
            "[nan nan nan nan nan]\n"
          ]
        },
        {
          "output_type": "stream",
          "name": "stderr",
          "text": [
            "<ipython-input-58-e0229b95df94>:11: RuntimeWarning: invalid value encountered in arcsin\n",
            "  print(np.arcsin(a))\n"
          ]
        }
      ]
    },
    {
      "cell_type": "code",
      "source": [
        "#inverse trignometric functions\n",
        "a=np.array([0,0.5,1])\n",
        "print(np.arcsin(a))#used to compute the inverse sin\n",
        "print(np.arccos(a))#used to compute the inverse cos\n",
        "print(np.arctan(a))#used to compute the inverse tan"
      ],
      "metadata": {
        "colab": {
          "base_uri": "https://localhost:8080/"
        },
        "id": "0l2yQ3KbyCLK",
        "outputId": "cecedf4d-e768-45fe-8d1d-986b99dc9d6a"
      },
      "execution_count": null,
      "outputs": [
        {
          "output_type": "stream",
          "name": "stdout",
          "text": [
            "[0.         0.52359878 1.57079633]\n",
            "[1.57079633 1.04719755 0.        ]\n",
            "[0.         0.46364761 0.78539816]\n"
          ]
        }
      ]
    },
    {
      "cell_type": "code",
      "source": [
        "#random\n",
        "\n",
        "a=np.random.rand(2,2)#used to generate random numbers in the intervel between[0,1]\n",
        "print(a)\n",
        "b=np.random.randn(2,2)#used to generate random numbers from a standard number distribution\n",
        "print(b)\n",
        "c=np.random.randint(1,10,(2,2))#used to print random value from low to high with range\n",
        "print(c)\n",
        "d=np.array([3,4,5,6,7])#used to shuffle the array\n",
        "print(np.random.shuffle(d))"
      ],
      "metadata": {
        "colab": {
          "base_uri": "https://localhost:8080/"
        },
        "id": "bd_KyzL-zEhz",
        "outputId": "d4739131-cb4c-471c-9b23-e3fadf56d763"
      },
      "execution_count": null,
      "outputs": [
        {
          "output_type": "stream",
          "name": "stdout",
          "text": [
            "[[0.72527988 0.54570471]\n",
            " [0.99709446 0.18450798]]\n",
            "[[ 0.81130035 -0.29670415]\n",
            " [ 0.11516228  1.29716461]]\n",
            "[[8 5]\n",
            " [8 5]]\n",
            "None\n"
          ]
        }
      ]
    },
    {
      "cell_type": "code",
      "source": [
        "#statistical functions\n",
        "import numpy as np\n",
        "\n",
        "data = np.array([1, 2, 3, 4, 5, 6, 7, 8, 9, 10])\n",
        "\n",
        "# Calculate the 50th percentile (median)\n",
        "median = np.percentile(data, 50)\n",
        "print(\"Median:\", median)\n",
        "\n",
        "import numpy as np\n",
        "\n",
        "# Create two arrays for demonstration\n",
        "x = np.array([1, 2, 3, 4, 5])\n",
        "y = np.array([2, 3, 4, 5, 6])\n",
        "\n",
        "# Compute the correlation coefficient matrix\n",
        "corr_matrix = np.corrcoef(x, y)\n",
        "\n",
        "print(\"Correlation coefficient matrix:\")\n",
        "print(corr_matrix)"
      ],
      "metadata": {
        "colab": {
          "base_uri": "https://localhost:8080/"
        },
        "id": "Lw0X6ekN4Pex",
        "outputId": "fd1eef76-fa4f-4f6b-ebc8-68d537b119ad"
      },
      "execution_count": null,
      "outputs": [
        {
          "output_type": "stream",
          "name": "stdout",
          "text": [
            "Median: 5.5\n",
            "Correlation coefficient matrix:\n",
            "[[1. 1.]\n",
            " [1. 1.]]\n"
          ]
        }
      ]
    },
    {
      "cell_type": "code",
      "source": [
        "#logical operations\n",
        "import numpy as np\n",
        "\n",
        "arr1 = np.array([True, True, False, False])\n",
        "arr2 = np.array([True, False, True, False])\n",
        "a = np.logical_and(arr1, arr2)#perfors logical and functions\n",
        "print(a)\n",
        "b=np.logical_or(arr1,arr2)#performs logical or functions\n",
        "print(b)\n",
        "arr1 = np.array([True, True, False, False])\n",
        "c=np.logical_not(arr1)#performs logical not functions\n",
        "print(c)"
      ],
      "metadata": {
        "colab": {
          "base_uri": "https://localhost:8080/"
        },
        "id": "eE9LOCYk5Rje",
        "outputId": "73817c08-c54e-4d98-ea0a-139d1aaa1c4d"
      },
      "execution_count": null,
      "outputs": [
        {
          "output_type": "stream",
          "name": "stdout",
          "text": [
            "[ True False False False]\n",
            "[ True  True  True False]\n",
            "[False False  True  True]\n"
          ]
        }
      ]
    },
    {
      "cell_type": "code",
      "source": [
        "#linear algebra\n",
        "import numpy as np\n",
        "\n",
        "# Create a 2x2 matrix\n",
        "A = np.array([[4, 7],\n",
        "              [2, 6]])\n",
        "\n",
        "# Compute the inverse of the matrix\n",
        "A_inv = np.linalg.inv(A)\n",
        "print(\"\\nInverse Matrix:\")\n",
        "print(A_inv)\n",
        "\n",
        "\n",
        "\n",
        "# Create a 2x2 matrix\n",
        "A = np.array([[4, 7],\n",
        "              [2, 6]])\n",
        "\n",
        "# Compute the determinant of the matrix\n",
        "det_A = np.linalg.det(A)\n",
        "print(\"\\nDeterminant:\", det_A)\n",
        "\n",
        "\n",
        "\n",
        "# Create a 2x2 matrix\n",
        "A = np.array([[4, 7],\n",
        "              [2, 6]])\n",
        "\n",
        "# Compute the eigenvalues and eigenvectors\n",
        "eigenvalues, eigenvectors = np.linalg.eig(A)\n",
        "print(\"\\nEigenvalues:\")\n",
        "print(eigenvalues)\n",
        "\n",
        "print(\"\\nEigenvectors:\")\n",
        "print(eigenvectors)"
      ],
      "metadata": {
        "colab": {
          "base_uri": "https://localhost:8080/"
        },
        "id": "HhOsTHX16-1K",
        "outputId": "3e496df6-4a8b-46dc-afb3-7c708fbd6df3"
      },
      "execution_count": null,
      "outputs": [
        {
          "output_type": "stream",
          "name": "stdout",
          "text": [
            "\n",
            "Inverse Matrix:\n",
            "[[ 0.6 -0.7]\n",
            " [-0.2  0.4]]\n",
            "\n",
            "Determinant: 10.000000000000002\n",
            "\n",
            "Eigenvalues:\n",
            "[1.12701665 8.87298335]\n",
            "\n",
            "Eigenvectors:\n",
            "[[-0.92511345 -0.82071729]\n",
            " [ 0.37969079 -0.57133452]]\n"
          ]
        }
      ]
    },
    {
      "cell_type": "code",
      "source": [
        "#sorting\n",
        "\n",
        "# Create an unsorted array\n",
        "arr = np.array([3, 1, 4, 1, 5, 9, 2, 6, 5, 3, 5])\n",
        "# Sort the array\n",
        "sorted_arr = np.sort(arr)\n",
        "print(\"Sorted array:\", sorted_arr)"
      ],
      "metadata": {
        "colab": {
          "base_uri": "https://localhost:8080/"
        },
        "id": "FhGiewp88pfH",
        "outputId": "c304d5c2-3c05-40f4-b505-cb2114aa865f"
      },
      "execution_count": null,
      "outputs": [
        {
          "output_type": "stream",
          "name": "stdout",
          "text": [
            "Sorted array: [1 1 2 3 3 4 5 5 5 6 9]\n"
          ]
        }
      ]
    },
    {
      "cell_type": "code",
      "source": [
        "#file input\\output\n",
        "\n",
        "# Create an array\n",
        "arr = np.array([1, 2, 3, 4, 5])\n",
        "# Save the array to a file\n",
        "np.save('saved_array.npy', arr)\n",
        "\n",
        "loaded_arr = np.load('saved_array.npy')\n",
        "print(\"Loaded array:\", loaded_arr)\n"
      ],
      "metadata": {
        "colab": {
          "base_uri": "https://localhost:8080/"
        },
        "id": "5lyKo20I9KKx",
        "outputId": "a83fa850-7f97-4bf2-c36a-8c62644b2ac7"
      },
      "execution_count": null,
      "outputs": [
        {
          "output_type": "stream",
          "name": "stdout",
          "text": [
            "Loaded array: [1 2 3 4 5]\n"
          ]
        }
      ]
    }
  ]
}