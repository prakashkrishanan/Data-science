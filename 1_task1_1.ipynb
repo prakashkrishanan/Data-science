{
  "nbformat": 4,
  "nbformat_minor": 0,
  "metadata": {
    "colab": {
      "provenance": [],
      "authorship_tag": "ABX9TyMAc2axzEN4FpCvrNCBYXoy",
      "include_colab_link": true
    },
    "kernelspec": {
      "name": "python3",
      "display_name": "Python 3"
    },
    "language_info": {
      "name": "python"
    }
  },
  "cells": [
    {
      "cell_type": "markdown",
      "metadata": {
        "id": "view-in-github",
        "colab_type": "text"
      },
      "source": [
        "<a href=\"https://colab.research.google.com/github/prakashkrishanan/Data-science/blob/main/1_task1_1.ipynb\" target=\"_parent\"><img src=\"https://colab.research.google.com/assets/colab-badge.svg\" alt=\"Open In Colab\"/></a>"
      ]
    },
    {
      "cell_type": "markdown",
      "source": [
        "task 1 question 1"
      ],
      "metadata": {
        "id": "qP35_i_Rb4-B"
      }
    },
    {
      "cell_type": "markdown",
      "source": [
        "a.Write a NumPy program to create a null vector of size 10 and update sixth value to 11"
      ],
      "metadata": {
        "id": "SusatfgWb-Cx"
      }
    },
    {
      "cell_type": "code",
      "source": [
        "import numpy as np\n",
        "\n",
        "# Create a null vector of size 10\n",
        "null_vector = np.zeros(10)\n",
        "\n",
        "# Update the sixth value to 11\n",
        "null_vector[5] = 11\n",
        "\n",
        "print(\"Null vector with sixth value updated:\", null_vector)\n"
      ],
      "metadata": {
        "colab": {
          "base_uri": "https://localhost:8080/"
        },
        "id": "SS__k0gpcGns",
        "outputId": "6ca5629d-a795-47cb-c881-b05cd9a5c20c"
      },
      "execution_count": null,
      "outputs": [
        {
          "output_type": "stream",
          "name": "stdout",
          "text": [
            "Null vector with sixth value updated: [ 0.  0.  0.  0.  0. 11.  0.  0.  0.  0.]\n"
          ]
        }
      ]
    },
    {
      "cell_type": "markdown",
      "source": [
        "b.To convert an array to a float type, you can use the 'astype' method:"
      ],
      "metadata": {
        "id": "u3wMKd4rcQIg"
      }
    },
    {
      "cell_type": "code",
      "source": [
        "import numpy as np\n",
        "\n",
        "# Create an integer array\n",
        "int_array = np.array([1, 2, 3, 4, 5])\n",
        "\n",
        "# Convert the array to float type\n",
        "float_array = int_array.astype(float)\n",
        "\n",
        "print(\"Original array:\", int_array)\n",
        "print(\"Array converted to float type:\", float_array)\n"
      ],
      "metadata": {
        "colab": {
          "base_uri": "https://localhost:8080/"
        },
        "id": "l0zAd2frcVb4",
        "outputId": "b89655d3-d0c3-4b34-8514-b283b5633ec6"
      },
      "execution_count": null,
      "outputs": [
        {
          "output_type": "stream",
          "name": "stdout",
          "text": [
            "Original array: [1 2 3 4 5]\n",
            "Array converted to float type: [1. 2. 3. 4. 5.]\n"
          ]
        }
      ]
    },
    {
      "cell_type": "markdown",
      "source": [
        "c.To create a 3x3 matrix with values ranging from 2 to 10:"
      ],
      "metadata": {
        "id": "LmqQtp3MchhR"
      }
    },
    {
      "cell_type": "code",
      "source": [
        "import numpy as np\n",
        "\n",
        "# Create a 3x3 matrix with values ranging from 2 to 10\n",
        "matrix = np.arange(2, 11).reshape(3, 3)\n",
        "\n",
        "print(\"3x3 Matrix with values ranging from 2 to 10:\")\n",
        "print(matrix)\n"
      ],
      "metadata": {
        "colab": {
          "base_uri": "https://localhost:8080/"
        },
        "id": "efSx3UA1cnEB",
        "outputId": "9ce7348c-f0c3-4994-d1a9-7ed57f8ae176"
      },
      "execution_count": null,
      "outputs": [
        {
          "output_type": "stream",
          "name": "stdout",
          "text": [
            "3x3 Matrix with values ranging from 2 to 10:\n",
            "[[ 2  3  4]\n",
            " [ 5  6  7]\n",
            " [ 8  9 10]]\n"
          ]
        }
      ]
    },
    {
      "cell_type": "markdown",
      "source": [
        "d.To convert a list of numeric values into a one-dimensional NumPy array:"
      ],
      "metadata": {
        "id": "YXIRrS58cvE5"
      }
    },
    {
      "cell_type": "code",
      "source": [
        "import numpy as np\n",
        "\n",
        "# Create a list of numeric values\n",
        "numeric_list = [1, 2, 3, 4, 5]\n",
        "\n",
        "# Convert the list to a one-dimensional NumPy array\n",
        "numpy_array = np.array(numeric_list)\n",
        "\n",
        "print(\"List converted to NumPy array:\", numpy_array)\n"
      ],
      "metadata": {
        "id": "eMbG3k4scw9w",
        "outputId": "a3a8fb7a-80f1-452a-cb18-5e7f5a30fc40",
        "colab": {
          "base_uri": "https://localhost:8080/"
        }
      },
      "execution_count": null,
      "outputs": [
        {
          "output_type": "stream",
          "name": "stdout",
          "text": [
            "List converted to NumPy array: [1 2 3 4 5]\n"
          ]
        }
      ]
    }
  ]
}