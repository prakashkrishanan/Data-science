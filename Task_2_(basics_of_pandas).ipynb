{
  "cells": [
    {
      "cell_type": "markdown",
      "metadata": {
        "id": "view-in-github",
        "colab_type": "text"
      },
      "source": [
        "<a href=\"https://colab.research.google.com/github/prakashkrishanan/Data-science/blob/main/Task_2_(basics_of_pandas).ipynb\" target=\"_parent\"><img src=\"https://colab.research.google.com/assets/colab-badge.svg\" alt=\"Open In Colab\"/></a>"
      ]
    },
    {
      "cell_type": "markdown",
      "source": [
        "simple pandas program"
      ],
      "metadata": {
        "id": "eEnft4oIja7Z"
      }
    },
    {
      "cell_type": "code",
      "source": [
        "import pandas as pd\n",
        "\n",
        "a = [1, 7, 2]\n",
        "\n",
        "myvar = pd.Series(a)\n",
        "\n",
        "print(myvar)"
      ],
      "metadata": {
        "id": "y_5hciwajWcX"
      },
      "execution_count": null,
      "outputs": []
    },
    {
      "cell_type": "code",
      "execution_count": null,
      "metadata": {
        "colab": {
          "base_uri": "https://localhost:8080/"
        },
        "id": "SeGnUyvcVfBX",
        "outputId": "39888b4e-ebb1-429b-b87c-1fa83ba68a68"
      },
      "outputs": [
        {
          "name": "stdout",
          "output_type": "stream",
          "text": [
            "[1, 2, 3]\n"
          ]
        }
      ],
      "source": [
        "import pandas as pd\n",
        "\n",
        "arr = pd.array([[1, 2, 3], [4, 5, 6]])\n",
        "\n",
        "print(arr[0])"
      ]
    },
    {
      "cell_type": "code",
      "execution_count": null,
      "metadata": {
        "colab": {
          "base_uri": "https://localhost:8080/"
        },
        "id": "GuoEfvhfV_WS",
        "outputId": "1341c126-2b85-4f55-eaf5-41fc436322f2"
      },
      "outputs": [
        {
          "name": "stdout",
          "output_type": "stream",
          "text": [
            "DataFrame:\n",
            "      Name  Age         City\n",
            "0    Alice   25     New York\n",
            "1      Bob   30  Los Angeles\n",
            "2  Charlie   35      Chicago\n",
            "3    David   28      Houston\n",
            "4      Eva   22        Miami\n"
          ]
        }
      ],
      "source": [
        "\n",
        "import pandas as pd\n",
        "\n",
        "data = {'Name': ['Alice', 'Bob', 'Charlie', 'David', 'Eva'],\n",
        "        'Age': [25, 30, 35, 28, 22],\n",
        "        'City': ['New York', 'Los Angeles', 'Chicago', 'Houston', 'Miami']}\n",
        "\n",
        "df = pd.DataFrame(data)\n",
        "\n",
        "print(\"DataFrame:\")\n",
        "print(df)\n",
        "\n"
      ]
    },
    {
      "cell_type": "code",
      "execution_count": null,
      "metadata": {
        "colab": {
          "base_uri": "https://localhost:8080/"
        },
        "id": "A892NQY5hFya",
        "outputId": "1f27d05f-86e0-4469-dbfe-683a6567dd83"
      },
      "outputs": [
        {
          "name": "stdout",
          "output_type": "stream",
          "text": [
            "     sepal_length  sepal_width  petal_length  petal_width         species\n",
            "0             5.1          3.5           1.4          0.2     Iris-setosa\n",
            "1             4.9          3.0           1.4          0.2     Iris-setosa\n",
            "2             4.7          3.2           1.3          0.2     Iris-setosa\n",
            "3             4.6          3.1           1.5          0.2     Iris-setosa\n",
            "4             5.0          3.6           1.4          0.2     Iris-setosa\n",
            "..            ...          ...           ...          ...             ...\n",
            "145           6.7          3.0           5.2          2.3  Iris-virginica\n",
            "146           6.3          2.5           5.0          1.9  Iris-virginica\n",
            "147           6.5          3.0           5.2          2.0  Iris-virginica\n",
            "148           6.2          3.4           5.4          2.3  Iris-virginica\n",
            "149           5.9          3.0           5.1          1.8  Iris-virginica\n",
            "\n",
            "[150 rows x 5 columns]\n"
          ]
        }
      ],
      "source": [
        "import pandas as pd\n",
        "data=pd.read_csv('/content/drive/MyDrive/IRIS.csv')\n",
        "df = pd.DataFrame(data)\n",
        "print(df[])"
      ]
    },
    {
      "cell_type": "code",
      "execution_count": null,
      "metadata": {
        "colab": {
          "background_save": true
        },
        "id": "YqGpx40yARX8",
        "outputId": "7cb01e86-1412-4a6b-c4c9-46a89e3b4abb"
      },
      "outputs": [
        {
          "ename": "TypeError",
          "evalue": "ignored",
          "output_type": "error",
          "traceback": [
            "\u001b[0;31m---------------------------------------------------------------------------\u001b[0m",
            "\u001b[0;31mTypeError\u001b[0m                                 Traceback (most recent call last)",
            "\u001b[0;32m<ipython-input-11-eca7c9a4253b>\u001b[0m in \u001b[0;36m<cell line: 4>\u001b[0;34m()\u001b[0m\n\u001b[1;32m      2\u001b[0m \u001b[0ms\u001b[0m\u001b[0;34m=\u001b[0m\u001b[0mpd\u001b[0m\u001b[0;34m.\u001b[0m\u001b[0mSeries\u001b[0m\u001b[0;34m(\u001b[0m\u001b[0;34m[\u001b[0m\u001b[0;36m3\u001b[0m\u001b[0;34m,\u001b[0m\u001b[0;34m-\u001b[0m\u001b[0;36m5\u001b[0m\u001b[0;34m,\u001b[0m\u001b[0;36m7\u001b[0m\u001b[0;34m,\u001b[0m\u001b[0;36m4\u001b[0m\u001b[0;34m]\u001b[0m\u001b[0;34m)\u001b[0m\u001b[0;34m,\u001b[0m\u001b[0;34m\u001b[0m\u001b[0;34m\u001b[0m\u001b[0m\n\u001b[1;32m      3\u001b[0m \u001b[0mindex\u001b[0m\u001b[0;34m=\u001b[0m\u001b[0;34m[\u001b[0m\u001b[0;34m'a'\u001b[0m\u001b[0;34m,\u001b[0m\u001b[0;34m'b'\u001b[0m\u001b[0;34m,\u001b[0m\u001b[0;34m'c'\u001b[0m\u001b[0;34m,\u001b[0m\u001b[0;34m'd'\u001b[0m\u001b[0;34m]\u001b[0m\u001b[0;34m\u001b[0m\u001b[0;34m\u001b[0m\u001b[0m\n\u001b[0;32m----> 4\u001b[0;31m \u001b[0mprint\u001b[0m\u001b[0;34m(\u001b[0m\u001b[0ms\u001b[0m\u001b[0;34m[\u001b[0m\u001b[0;34m'b'\u001b[0m\u001b[0;34m]\u001b[0m\u001b[0;34m)\u001b[0m\u001b[0;34m\u001b[0m\u001b[0;34m\u001b[0m\u001b[0m\n\u001b[0m",
            "\u001b[0;31mTypeError\u001b[0m: tuple indices must be integers or slices, not str"
          ]
        }
      ],
      "source": [
        "import pandas as pd\n",
        "s=pd.series([3,-5,7,4]),index=['a','b','c','d']\n",
        "print(s['b'])"
      ]
    },
    {
      "cell_type": "markdown",
      "source": [
        "pandas data structures"
      ],
      "metadata": {
        "id": "GmrgBkBloXxH"
      }
    },
    {
      "cell_type": "code",
      "source": [
        "#series\n",
        "import pandas as pd\n",
        "\n",
        "# Creating a Series from a list\n",
        "data = [1, 2, 3, 4, 5]\n",
        "series = pd.Series(data)\n",
        "\n",
        "# Displaying the Series\n",
        "print(series)\n",
        "\n",
        "# Accessing elements in a Series\n",
        "print(series[0])  # Accessing the first element\n",
        "print(series[1:4])  # Slicing the Series\n",
        "\n",
        "# Performing operations on a Series\n",
        "squared_series = series ** 2\n",
        "print(squared_series)\n",
        "\n",
        "# Adding two Series\n",
        "series1 = pd.Series([1, 2, 3])\n",
        "series2 = pd.Series([4, 5, 6])\n",
        "sum_series = series1 + series2\n",
        "print(sum_series)\n"
      ],
      "metadata": {
        "id": "q1_XWNLxoV0p"
      },
      "execution_count": null,
      "outputs": []
    },
    {
      "cell_type": "code",
      "source": [
        "#dataframe\n",
        "import pandas as pd\n",
        "\n",
        "# Creating a DataFrame from a dictionary\n",
        "data = {'Name': ['Alice', 'Bob', 'Charlie'],\n",
        "        'Age': [25, 30, 35],\n",
        "        'City': ['New York', 'San Francisco', 'Los Angeles']}\n",
        "df = pd.DataFrame(data)\n",
        "\n",
        "# Displaying the DataFrame\n",
        "print(df)\n",
        "\n",
        "# Accessing columns in a DataFrame\n",
        "print(df['Name'])  # Accessing the 'Name' column\n",
        "print(df[['Name', 'Age']])  # Accessing multiple columns\n",
        "\n",
        "# Accessing rows in a DataFrame\n",
        "print(df.loc[0])  # Accessing the first row\n",
        "print(df.loc[1:2])  # Accessing a range of rows\n",
        "\n",
        "# Adding a new column to the DataFrame\n",
        "df['Salary'] = [50000, 60000, 70000]\n",
        "print(df)\n",
        "\n",
        "# Filtering data in a DataFrame\n",
        "filtered_df = df[df['Age'] > 30]\n",
        "print(filtered_df)\n"
      ],
      "metadata": {
        "id": "Oym0HAa9olj4"
      },
      "execution_count": null,
      "outputs": []
    },
    {
      "cell_type": "markdown",
      "source": [
        "I\\O"
      ],
      "metadata": {
        "id": "KMfIqJU8pXRi"
      }
    },
    {
      "cell_type": "code",
      "source": [
        "#READ CSV FILE\n",
        "import pandas as pd\n",
        "\n",
        "# Read a CSV file into a DataFrame\n",
        "df = pd.read_csv('example.csv')\n",
        "\n",
        "# Display the DataFrame\n",
        "print(df)\n"
      ],
      "metadata": {
        "id": "qjjZ9g08pU8U"
      },
      "execution_count": null,
      "outputs": []
    },
    {
      "cell_type": "code",
      "source": [
        "#WRITE CSV FILE\n",
        "import pandas as pd\n",
        "\n",
        "# Creating a DataFrame\n",
        "data = {'Name': ['Alice', 'Bob', 'Charlie'],\n",
        "        'Age': [25, 30, 35],\n",
        "        'City': ['New York', 'San Francisco', 'Los Angeles']}\n",
        "df = pd.DataFrame(data)\n",
        "\n",
        "# Write the DataFrame to a CSV file\n",
        "df.to_csv('output.csv', index=False)\n"
      ],
      "metadata": {
        "id": "jt6DBhY2piAn"
      },
      "execution_count": null,
      "outputs": []
    },
    {
      "cell_type": "code",
      "source": [
        "#READ TO EXCEL\n",
        "import pandas as pd\n",
        "\n",
        "# Read an Excel file into a DataFrame\n",
        "df = pd.read_excel('example.xlsx', sheet_name='Sheet1')\n",
        "\n",
        "# Display the DataFrame\n",
        "print(df)\n"
      ],
      "metadata": {
        "id": "Zmh0sAJaq089"
      },
      "execution_count": null,
      "outputs": []
    },
    {
      "cell_type": "code",
      "source": [
        "#WRITE TO EXCEL\n",
        "import pandas as pd\n",
        "\n",
        "# Creating a DataFrame\n",
        "data = {'Name': ['Alice', 'Bob', 'Charlie'],\n",
        "        'Age': [25, 30, 35],\n",
        "        'City': ['New York', 'San Francisco', 'Los Angeles']}\n",
        "df = pd.DataFrame(data)\n",
        "\n",
        "# Write the DataFrame to an Excel file\n",
        "df.to_excel('output.xlsx', index=False, sheet_name='Sheet1')\n"
      ],
      "metadata": {
        "id": "VKZGBosoq3ec"
      },
      "execution_count": null,
      "outputs": []
    },
    {
      "cell_type": "code",
      "source": [
        "pip install pandas openpyxl xlrd\n"
      ],
      "metadata": {
        "id": "nGHKGOkEsqQ8"
      },
      "execution_count": null,
      "outputs": []
    },
    {
      "cell_type": "markdown",
      "source": [
        "selection"
      ],
      "metadata": {
        "id": "GtqPf2vArHwa"
      }
    },
    {
      "cell_type": "code",
      "source": [
        "import pandas as pd\n",
        "\n",
        "# Creating a sample DataFrame\n",
        "data = {'Name': ['Alice', 'Bob', 'Charlie', 'David', 'Emily'],\n",
        "        'Age': [25, 30, 35, 28, 22],\n",
        "        'City': ['New York', 'San Francisco', 'Los Angeles', 'Chicago', 'Boston']}\n",
        "df = pd.DataFrame(data)\n",
        "\n",
        "# Display the original DataFrame\n",
        "print(\"Original DataFrame:\")\n",
        "print(df)\n",
        "\n",
        "# Selecting a column\n",
        "name_column = df['Name']\n",
        "print(\"\\nSelecting 'Name' column:\")\n",
        "print(name_column)\n",
        "\n",
        "# Selecting multiple columns\n",
        "subset_df = df[['Name', 'Age']]\n",
        "print(\"\\nSelecting 'Name' and 'Age' columns:\")\n",
        "print(subset_df)\n",
        "\n",
        "# Selecting rows based on a condition\n",
        "young_people = df[df['Age'] < 30]\n",
        "print(\"\\nSelecting people under 30:\")\n",
        "print(young_people)\n",
        "\n",
        "# Selecting specific rows and columns using loc\n",
        "selected_data = df.loc[1:3, ['Name', 'City']]\n",
        "print(\"\\nSelecting rows 1 to 3 and columns 'Name' and 'City' using loc:\")\n",
        "print(selected_data)\n"
      ],
      "metadata": {
        "id": "lrcPkpQrsKKQ"
      },
      "execution_count": null,
      "outputs": []
    },
    {
      "cell_type": "markdown",
      "source": [
        "dropping"
      ],
      "metadata": {
        "id": "pxPWls1Ksgbm"
      }
    },
    {
      "cell_type": "code",
      "source": [
        "import pandas as pd\n",
        "\n",
        "# Creating a sample DataFrame\n",
        "data = {'Name': ['Alice', 'Bob', 'Charlie', 'David', 'Emily'],\n",
        "        'Age': [25, 30, 35, 28, 22],\n",
        "        'City': ['New York', 'San Francisco', 'Los Angeles', 'Chicago', 'Boston']}\n",
        "df = pd.DataFrame(data)\n",
        "\n",
        "# Display the original DataFrame\n",
        "print(\"Original DataFrame:\")\n",
        "print(df)\n",
        "\n",
        "# Drop a column (axis=1)\n",
        "df_dropped_column = df.drop('Age', axis=1)\n",
        "print(\"\\nDataFrame after dropping 'Age' column:\")\n",
        "print(df_dropped_column)\n",
        "\n",
        "# Drop multiple columns\n",
        "df_dropped_columns = df.drop(['Age', 'City'], axis=1)\n",
        "print(\"\\nDataFrame after dropping 'Age' and 'City' columns:\")\n",
        "print(df_dropped_columns)\n",
        "\n",
        "# Drop a row by index\n",
        "df_dropped_row = df.drop(2)\n",
        "print(\"\\nDataFrame after dropping row with index 2:\")\n",
        "print(df_dropped_row)\n",
        "\n",
        "# Drop multiple rows by index\n",
        "df_dropped_rows = df.drop([1, 3])\n",
        "print(\"\\nDataFrame after dropping rows with index 1 and 3:\")\n",
        "print(df_dropped_rows)\n"
      ],
      "metadata": {
        "id": "mTGs_qTlsh93"
      },
      "execution_count": null,
      "outputs": []
    },
    {
      "cell_type": "code",
      "source": [
        "# Drop a column in-place\n",
        "df.drop('Age', axis=1, inplace=True)\n"
      ],
      "metadata": {
        "id": "IyzCWWPisk4F"
      },
      "execution_count": null,
      "outputs": []
    },
    {
      "cell_type": "markdown",
      "source": [
        "sort and rank"
      ],
      "metadata": {
        "id": "O_ZLQMossyvm"
      }
    },
    {
      "cell_type": "code",
      "source": [
        "#sorting\n",
        "import pandas as pd\n",
        "\n",
        "# Creating a sample DataFrame\n",
        "data = {'Name': ['Alice', 'Bob', 'Charlie', 'David', 'Emily'],\n",
        "        'Age': [25, 30, 35, 28, 22],\n",
        "        'City': ['New York', 'San Francisco', 'Los Angeles', 'Chicago', 'Boston']}\n",
        "df = pd.DataFrame(data)\n",
        "\n",
        "# Display the original DataFrame\n",
        "print(\"Original DataFrame:\")\n",
        "print(df)\n",
        "\n",
        "# Sort by a specific column\n",
        "sorted_df_by_age = df.sort_values(by='Age')\n",
        "print(\"\\nDataFrame sorted by 'Age':\")\n",
        "print(sorted_df_by_age)\n",
        "\n",
        "# Sort in descending order\n",
        "sorted_df_desc_age = df.sort_values(by='Age', ascending=False)\n",
        "print(\"\\nDataFrame sorted by 'Age' in descending order:\")\n",
        "print(sorted_df_desc_age)\n"
      ],
      "metadata": {
        "id": "q_Zo3Oa3s3in"
      },
      "execution_count": null,
      "outputs": []
    },
    {
      "cell_type": "code",
      "source": [
        "#ranking\n",
        "import pandas as pd\n",
        "\n",
        "# Creating a sample DataFrame\n",
        "data = {'Name': ['Alice', 'Bob', 'Charlie', 'David', 'Emily'],\n",
        "        'Age': [25, 30, 35, 28, 22],\n",
        "        'City': ['New York', 'San Francisco', 'Los Angeles', 'Chicago', 'Boston']}\n",
        "df = pd.DataFrame(data)\n",
        "\n",
        "# Display the original DataFrame\n",
        "print(\"Original DataFrame:\")\n",
        "print(df)\n",
        "\n",
        "# Rank the DataFrame by 'Age'\n",
        "df['Age_Rank'] = df['Age'].rank()\n",
        "print(\"\\nDataFrame with 'Age' ranked:\")\n",
        "print(df)\n"
      ],
      "metadata": {
        "id": "MBEyVgL2tDSx"
      },
      "execution_count": null,
      "outputs": []
    },
    {
      "cell_type": "markdown",
      "source": [
        "retrieving series/data frame information"
      ],
      "metadata": {
        "id": "6RMVRHa4taok"
      }
    },
    {
      "cell_type": "code",
      "source": [
        "#Retrieving Information about a DataFrame\n",
        "import pandas as pd\n",
        "\n",
        "# Creating a sample DataFrame\n",
        "data = {'Name': ['Alice', 'Bob', 'Charlie', 'David', 'Emily'],\n",
        "        'Age': [25, 30, 35, 28, 22],\n",
        "        'City': ['New York', 'San Francisco', 'Los Angeles', 'Chicago', 'Boston']}\n",
        "df = pd.DataFrame(data)\n",
        "\n",
        "# Display the original DataFrame\n",
        "print(\"Original DataFrame:\")\n",
        "print(df)\n",
        "\n",
        "# Getting general information about the DataFrame\n",
        "info_df = df.info()\n",
        "print(\"\\nInformation about the DataFrame:\")\n",
        "print(info_df)\n",
        "\n",
        "# Getting basic statistics for numerical columns\n",
        "describe_df = df.describe()\n",
        "print(\"\\nDescriptive statistics for the DataFrame:\")\n",
        "print(describe_df)\n",
        "\n",
        "# Displaying the first few rows of the DataFrame\n",
        "head_df = df.head(3)\n",
        "print(\"\\nFirst 3 rows of the DataFrame:\")\n",
        "print(head_df)\n"
      ],
      "metadata": {
        "id": "GpUkTCrJthSZ"
      },
      "execution_count": null,
      "outputs": []
    },
    {
      "cell_type": "code",
      "source": [
        "#Retrieving Information about a Series:\n",
        "import pandas as pd\n",
        "\n",
        "# Creating a sample Series\n",
        "ages = pd.Series([25, 30, 35, 28, 22], name='Age')\n",
        "\n",
        "# Display the original Series\n",
        "print(\"Original Series:\")\n",
        "print(ages)\n",
        "\n",
        "# Getting general information about the Series\n",
        "info_series = ages.describe()\n",
        "print(\"\\nDescriptive statistics for the Series:\")\n",
        "print(info_series)\n",
        "\n",
        "# Accessing specific attributes of the Series\n",
        "print(\"\\nMaximum value in the Series:\", ages.max())\n",
        "print(\"Minimum value in the Series:\", ages.min())\n",
        "print(\"Mean of the Series:\", ages.mean())\n"
      ],
      "metadata": {
        "id": "nLPWKr51tqZg"
      },
      "execution_count": null,
      "outputs": []
    },
    {
      "cell_type": "markdown",
      "source": [
        "applying functions"
      ],
      "metadata": {
        "id": "Sz0RhUfPt65T"
      }
    },
    {
      "cell_type": "code",
      "source": [
        "#Applying a Function to DataFrame\n",
        "\n",
        "import pandas as pd\n",
        "\n",
        "# Creating a sample DataFrame\n",
        "data = {'Name': ['Alice', 'Bob', 'Charlie', 'David', 'Emily'],\n",
        "        'Age': [25, 30, 35, 28, 22],\n",
        "        'City': ['New York', 'San Francisco', 'Los Angeles', 'Chicago', 'Boston']}\n",
        "df = pd.DataFrame(data)\n",
        "\n",
        "# Display the original DataFrame\n",
        "print(\"Original DataFrame:\")\n",
        "print(df)\n",
        "\n",
        "# Define a function to add a prefix to each city\n",
        "def add_prefix(city):\n",
        "    return \"City of \" + city\n",
        "\n",
        "# Apply the function to the 'City' column\n",
        "df['City_with_prefix'] = df['City'].apply(add_prefix)\n",
        "print(\"\\nDataFrame after applying the function to 'City':\")\n",
        "print(df)\n",
        "\n",
        "\n"
      ],
      "metadata": {
        "id": "uwfiHV5zuAAp"
      },
      "execution_count": null,
      "outputs": []
    },
    {
      "cell_type": "markdown",
      "source": [
        "data alignment"
      ],
      "metadata": {
        "id": "3l03BmpfuqTX"
      }
    },
    {
      "cell_type": "code",
      "source": [
        "import pandas as pd\n",
        "\n",
        "# Creating two sample Series with different indices\n",
        "series1 = pd.Series([1, 2, 3], index=['a', 'b', 'c'])\n",
        "series2 = pd.Series([4, 5, 6], index=['b', 'c', 'd'])\n",
        "\n",
        "# Display the original Series\n",
        "print(\"Series 1:\")\n",
        "print(series1)\n",
        "print(\"\\nSeries 2:\")\n",
        "print(series2)\n",
        "\n",
        "# Adding two Series\n",
        "result = series1 + series2\n",
        "\n",
        "# Display the result of the addition\n",
        "print(\"\\nResult of the addition:\")\n",
        "print(result)\n"
      ],
      "metadata": {
        "id": "rWqP0lQ4uu-x"
      },
      "execution_count": null,
      "outputs": []
    },
    {
      "cell_type": "code",
      "source": [
        "#Applying a Function to Series:\n",
        "import pandas as pd\n",
        "\n",
        "# Creating a sample Series\n",
        "ages = pd.Series([25, 30, 35, 28, 22], name='Age')\n",
        "\n",
        "# Display the original Series\n",
        "print(\"Original Series:\")\n",
        "print(ages)\n",
        "\n",
        "# Define a function to categorize age groups\n",
        "def categorize_age(age):\n",
        "    if age < 25:\n",
        "        return 'Young'\n",
        "    elif age < 35:\n",
        "        return 'Middle-aged'\n",
        "    else:\n",
        "        return 'Senior'\n",
        "\n",
        "# Apply the function to the Series\n",
        "age_categories = ages.apply(categorize_age)\n",
        "print(\"\\nSeries after applying the function to categorize ages:\")\n",
        "print(age_categories)\n"
      ],
      "metadata": {
        "id": "s3ob3_k6uTmN"
      },
      "execution_count": null,
      "outputs": []
    },
    {
      "cell_type": "code",
      "source": [
        "import pandas as pd\n",
        "\n",
        "# Loading Data\n",
        "csv_data = pd.read_csv('your_csv_file.csv')\n",
        "excel_data = pd.read_excel('your_excel_file.xlsx')"
      ],
      "metadata": {
        "colab": {
          "base_uri": "https://localhost:8080/",
          "height": 391
        },
        "id": "4bzT5-kFxLGe",
        "outputId": "3ab39537-7d9f-4fab-8973-b26601bf5bf4"
      },
      "execution_count": null,
      "outputs": [
        {
          "output_type": "error",
          "ename": "FileNotFoundError",
          "evalue": "ignored",
          "traceback": [
            "\u001b[0;31m---------------------------------------------------------------------------\u001b[0m",
            "\u001b[0;31mFileNotFoundError\u001b[0m                         Traceback (most recent call last)",
            "\u001b[0;32m<ipython-input-1-412462980bdc>\u001b[0m in \u001b[0;36m<cell line: 4>\u001b[0;34m()\u001b[0m\n\u001b[1;32m      2\u001b[0m \u001b[0;34m\u001b[0m\u001b[0m\n\u001b[1;32m      3\u001b[0m \u001b[0;31m# Loading Data\u001b[0m\u001b[0;34m\u001b[0m\u001b[0;34m\u001b[0m\u001b[0m\n\u001b[0;32m----> 4\u001b[0;31m \u001b[0mcsv_data\u001b[0m \u001b[0;34m=\u001b[0m \u001b[0mpd\u001b[0m\u001b[0;34m.\u001b[0m\u001b[0mread_csv\u001b[0m\u001b[0;34m(\u001b[0m\u001b[0;34m'your_csv_file.csv'\u001b[0m\u001b[0;34m)\u001b[0m\u001b[0;34m\u001b[0m\u001b[0;34m\u001b[0m\u001b[0m\n\u001b[0m\u001b[1;32m      5\u001b[0m \u001b[0mexcel_data\u001b[0m \u001b[0;34m=\u001b[0m \u001b[0mpd\u001b[0m\u001b[0;34m.\u001b[0m\u001b[0mread_excel\u001b[0m\u001b[0;34m(\u001b[0m\u001b[0;34m'your_excel_file.xlsx'\u001b[0m\u001b[0;34m)\u001b[0m\u001b[0;34m\u001b[0m\u001b[0;34m\u001b[0m\u001b[0m\n",
            "\u001b[0;32m/usr/local/lib/python3.10/dist-packages/pandas/util/_decorators.py\u001b[0m in \u001b[0;36mwrapper\u001b[0;34m(*args, **kwargs)\u001b[0m\n\u001b[1;32m    209\u001b[0m                 \u001b[0;32melse\u001b[0m\u001b[0;34m:\u001b[0m\u001b[0;34m\u001b[0m\u001b[0;34m\u001b[0m\u001b[0m\n\u001b[1;32m    210\u001b[0m                     \u001b[0mkwargs\u001b[0m\u001b[0;34m[\u001b[0m\u001b[0mnew_arg_name\u001b[0m\u001b[0;34m]\u001b[0m \u001b[0;34m=\u001b[0m \u001b[0mnew_arg_value\u001b[0m\u001b[0;34m\u001b[0m\u001b[0;34m\u001b[0m\u001b[0m\n\u001b[0;32m--> 211\u001b[0;31m             \u001b[0;32mreturn\u001b[0m \u001b[0mfunc\u001b[0m\u001b[0;34m(\u001b[0m\u001b[0;34m*\u001b[0m\u001b[0margs\u001b[0m\u001b[0;34m,\u001b[0m \u001b[0;34m**\u001b[0m\u001b[0mkwargs\u001b[0m\u001b[0;34m)\u001b[0m\u001b[0;34m\u001b[0m\u001b[0;34m\u001b[0m\u001b[0m\n\u001b[0m\u001b[1;32m    212\u001b[0m \u001b[0;34m\u001b[0m\u001b[0m\n\u001b[1;32m    213\u001b[0m         \u001b[0;32mreturn\u001b[0m \u001b[0mcast\u001b[0m\u001b[0;34m(\u001b[0m\u001b[0mF\u001b[0m\u001b[0;34m,\u001b[0m \u001b[0mwrapper\u001b[0m\u001b[0;34m)\u001b[0m\u001b[0;34m\u001b[0m\u001b[0;34m\u001b[0m\u001b[0m\n",
            "\u001b[0;32m/usr/local/lib/python3.10/dist-packages/pandas/util/_decorators.py\u001b[0m in \u001b[0;36mwrapper\u001b[0;34m(*args, **kwargs)\u001b[0m\n\u001b[1;32m    329\u001b[0m                     \u001b[0mstacklevel\u001b[0m\u001b[0;34m=\u001b[0m\u001b[0mfind_stack_level\u001b[0m\u001b[0;34m(\u001b[0m\u001b[0;34m)\u001b[0m\u001b[0;34m,\u001b[0m\u001b[0;34m\u001b[0m\u001b[0;34m\u001b[0m\u001b[0m\n\u001b[1;32m    330\u001b[0m                 )\n\u001b[0;32m--> 331\u001b[0;31m             \u001b[0;32mreturn\u001b[0m \u001b[0mfunc\u001b[0m\u001b[0;34m(\u001b[0m\u001b[0;34m*\u001b[0m\u001b[0margs\u001b[0m\u001b[0;34m,\u001b[0m \u001b[0;34m**\u001b[0m\u001b[0mkwargs\u001b[0m\u001b[0;34m)\u001b[0m\u001b[0;34m\u001b[0m\u001b[0;34m\u001b[0m\u001b[0m\n\u001b[0m\u001b[1;32m    332\u001b[0m \u001b[0;34m\u001b[0m\u001b[0m\n\u001b[1;32m    333\u001b[0m         \u001b[0;31m# error: \"Callable[[VarArg(Any), KwArg(Any)], Any]\" has no\u001b[0m\u001b[0;34m\u001b[0m\u001b[0;34m\u001b[0m\u001b[0m\n",
            "\u001b[0;32m/usr/local/lib/python3.10/dist-packages/pandas/io/parsers/readers.py\u001b[0m in \u001b[0;36mread_csv\u001b[0;34m(filepath_or_buffer, sep, delimiter, header, names, index_col, usecols, squeeze, prefix, mangle_dupe_cols, dtype, engine, converters, true_values, false_values, skipinitialspace, skiprows, skipfooter, nrows, na_values, keep_default_na, na_filter, verbose, skip_blank_lines, parse_dates, infer_datetime_format, keep_date_col, date_parser, dayfirst, cache_dates, iterator, chunksize, compression, thousands, decimal, lineterminator, quotechar, quoting, doublequote, escapechar, comment, encoding, encoding_errors, dialect, error_bad_lines, warn_bad_lines, on_bad_lines, delim_whitespace, low_memory, memory_map, float_precision, storage_options)\u001b[0m\n\u001b[1;32m    948\u001b[0m     \u001b[0mkwds\u001b[0m\u001b[0;34m.\u001b[0m\u001b[0mupdate\u001b[0m\u001b[0;34m(\u001b[0m\u001b[0mkwds_defaults\u001b[0m\u001b[0;34m)\u001b[0m\u001b[0;34m\u001b[0m\u001b[0;34m\u001b[0m\u001b[0m\n\u001b[1;32m    949\u001b[0m \u001b[0;34m\u001b[0m\u001b[0m\n\u001b[0;32m--> 950\u001b[0;31m     \u001b[0;32mreturn\u001b[0m \u001b[0m_read\u001b[0m\u001b[0;34m(\u001b[0m\u001b[0mfilepath_or_buffer\u001b[0m\u001b[0;34m,\u001b[0m \u001b[0mkwds\u001b[0m\u001b[0;34m)\u001b[0m\u001b[0;34m\u001b[0m\u001b[0;34m\u001b[0m\u001b[0m\n\u001b[0m\u001b[1;32m    951\u001b[0m \u001b[0;34m\u001b[0m\u001b[0m\n\u001b[1;32m    952\u001b[0m \u001b[0;34m\u001b[0m\u001b[0m\n",
            "\u001b[0;32m/usr/local/lib/python3.10/dist-packages/pandas/io/parsers/readers.py\u001b[0m in \u001b[0;36m_read\u001b[0;34m(filepath_or_buffer, kwds)\u001b[0m\n\u001b[1;32m    603\u001b[0m \u001b[0;34m\u001b[0m\u001b[0m\n\u001b[1;32m    604\u001b[0m     \u001b[0;31m# Create the parser.\u001b[0m\u001b[0;34m\u001b[0m\u001b[0;34m\u001b[0m\u001b[0m\n\u001b[0;32m--> 605\u001b[0;31m     \u001b[0mparser\u001b[0m \u001b[0;34m=\u001b[0m \u001b[0mTextFileReader\u001b[0m\u001b[0;34m(\u001b[0m\u001b[0mfilepath_or_buffer\u001b[0m\u001b[0;34m,\u001b[0m \u001b[0;34m**\u001b[0m\u001b[0mkwds\u001b[0m\u001b[0;34m)\u001b[0m\u001b[0;34m\u001b[0m\u001b[0;34m\u001b[0m\u001b[0m\n\u001b[0m\u001b[1;32m    606\u001b[0m \u001b[0;34m\u001b[0m\u001b[0m\n\u001b[1;32m    607\u001b[0m     \u001b[0;32mif\u001b[0m \u001b[0mchunksize\u001b[0m \u001b[0;32mor\u001b[0m \u001b[0miterator\u001b[0m\u001b[0;34m:\u001b[0m\u001b[0;34m\u001b[0m\u001b[0;34m\u001b[0m\u001b[0m\n",
            "\u001b[0;32m/usr/local/lib/python3.10/dist-packages/pandas/io/parsers/readers.py\u001b[0m in \u001b[0;36m__init__\u001b[0;34m(self, f, engine, **kwds)\u001b[0m\n\u001b[1;32m   1440\u001b[0m \u001b[0;34m\u001b[0m\u001b[0m\n\u001b[1;32m   1441\u001b[0m         \u001b[0mself\u001b[0m\u001b[0;34m.\u001b[0m\u001b[0mhandles\u001b[0m\u001b[0;34m:\u001b[0m \u001b[0mIOHandles\u001b[0m \u001b[0;34m|\u001b[0m \u001b[0;32mNone\u001b[0m \u001b[0;34m=\u001b[0m \u001b[0;32mNone\u001b[0m\u001b[0;34m\u001b[0m\u001b[0;34m\u001b[0m\u001b[0m\n\u001b[0;32m-> 1442\u001b[0;31m         \u001b[0mself\u001b[0m\u001b[0;34m.\u001b[0m\u001b[0m_engine\u001b[0m \u001b[0;34m=\u001b[0m \u001b[0mself\u001b[0m\u001b[0;34m.\u001b[0m\u001b[0m_make_engine\u001b[0m\u001b[0;34m(\u001b[0m\u001b[0mf\u001b[0m\u001b[0;34m,\u001b[0m \u001b[0mself\u001b[0m\u001b[0;34m.\u001b[0m\u001b[0mengine\u001b[0m\u001b[0;34m)\u001b[0m\u001b[0;34m\u001b[0m\u001b[0;34m\u001b[0m\u001b[0m\n\u001b[0m\u001b[1;32m   1443\u001b[0m \u001b[0;34m\u001b[0m\u001b[0m\n\u001b[1;32m   1444\u001b[0m     \u001b[0;32mdef\u001b[0m \u001b[0mclose\u001b[0m\u001b[0;34m(\u001b[0m\u001b[0mself\u001b[0m\u001b[0;34m)\u001b[0m \u001b[0;34m->\u001b[0m \u001b[0;32mNone\u001b[0m\u001b[0;34m:\u001b[0m\u001b[0;34m\u001b[0m\u001b[0;34m\u001b[0m\u001b[0m\n",
            "\u001b[0;32m/usr/local/lib/python3.10/dist-packages/pandas/io/parsers/readers.py\u001b[0m in \u001b[0;36m_make_engine\u001b[0;34m(self, f, engine)\u001b[0m\n\u001b[1;32m   1733\u001b[0m                 \u001b[0;32mif\u001b[0m \u001b[0;34m\"b\"\u001b[0m \u001b[0;32mnot\u001b[0m \u001b[0;32min\u001b[0m \u001b[0mmode\u001b[0m\u001b[0;34m:\u001b[0m\u001b[0;34m\u001b[0m\u001b[0;34m\u001b[0m\u001b[0m\n\u001b[1;32m   1734\u001b[0m                     \u001b[0mmode\u001b[0m \u001b[0;34m+=\u001b[0m \u001b[0;34m\"b\"\u001b[0m\u001b[0;34m\u001b[0m\u001b[0;34m\u001b[0m\u001b[0m\n\u001b[0;32m-> 1735\u001b[0;31m             self.handles = get_handle(\n\u001b[0m\u001b[1;32m   1736\u001b[0m                 \u001b[0mf\u001b[0m\u001b[0;34m,\u001b[0m\u001b[0;34m\u001b[0m\u001b[0;34m\u001b[0m\u001b[0m\n\u001b[1;32m   1737\u001b[0m                 \u001b[0mmode\u001b[0m\u001b[0;34m,\u001b[0m\u001b[0;34m\u001b[0m\u001b[0;34m\u001b[0m\u001b[0m\n",
            "\u001b[0;32m/usr/local/lib/python3.10/dist-packages/pandas/io/common.py\u001b[0m in \u001b[0;36mget_handle\u001b[0;34m(path_or_buf, mode, encoding, compression, memory_map, is_text, errors, storage_options)\u001b[0m\n\u001b[1;32m    854\u001b[0m         \u001b[0;32mif\u001b[0m \u001b[0mioargs\u001b[0m\u001b[0;34m.\u001b[0m\u001b[0mencoding\u001b[0m \u001b[0;32mand\u001b[0m \u001b[0;34m\"b\"\u001b[0m \u001b[0;32mnot\u001b[0m \u001b[0;32min\u001b[0m \u001b[0mioargs\u001b[0m\u001b[0;34m.\u001b[0m\u001b[0mmode\u001b[0m\u001b[0;34m:\u001b[0m\u001b[0;34m\u001b[0m\u001b[0;34m\u001b[0m\u001b[0m\n\u001b[1;32m    855\u001b[0m             \u001b[0;31m# Encoding\u001b[0m\u001b[0;34m\u001b[0m\u001b[0;34m\u001b[0m\u001b[0m\n\u001b[0;32m--> 856\u001b[0;31m             handle = open(\n\u001b[0m\u001b[1;32m    857\u001b[0m                 \u001b[0mhandle\u001b[0m\u001b[0;34m,\u001b[0m\u001b[0;34m\u001b[0m\u001b[0;34m\u001b[0m\u001b[0m\n\u001b[1;32m    858\u001b[0m                 \u001b[0mioargs\u001b[0m\u001b[0;34m.\u001b[0m\u001b[0mmode\u001b[0m\u001b[0;34m,\u001b[0m\u001b[0;34m\u001b[0m\u001b[0;34m\u001b[0m\u001b[0m\n",
            "\u001b[0;31mFileNotFoundError\u001b[0m: [Errno 2] No such file or directory: 'your_csv_file.csv'"
          ]
        }
      ]
    },
    {
      "cell_type": "code",
      "source": [
        "# Assuming you have a SQL database named 'your_db' and a table named 'your_table'\n",
        "sql_data = pd.read_sql('SELECT * FROM your_table', 'your_db')\n",
        "json_data = pd.read_json('your_json_file.json')"
      ],
      "metadata": {
        "id": "LNulWUWgw-UN"
      },
      "execution_count": null,
      "outputs": []
    },
    {
      "cell_type": "code",
      "source": [
        "# Exploring Data\n",
        "print(csv_data.head())\n",
        "print(csv_data.info())\n",
        "print(csv_data.describe())\n",
        "print(csv_data.shape)\n",
        "print(csv_data.columns)\n",
        "print(csv_data.dtypes)"
      ],
      "metadata": {
        "id": "ULS7_8texZDb"
      },
      "execution_count": null,
      "outputs": []
    },
    {
      "cell_type": "code",
      "source": [
        "# Selection and Indexing\n",
        "print(csv_data['column_name'])\n",
        "print(csv_data[['col1', 'col2']])\n",
        "print(csv_data.loc[1:5])\n",
        "print(csv_data.iloc[1:5])\n"
      ],
      "metadata": {
        "id": "JuZjUyl9xeSf"
      },
      "execution_count": null,
      "outputs": []
    },
    {
      "cell_type": "code",
      "source": [
        "# Filtering Data\n",
        "print(csv_data[csv_data['column'] > value])\n",
        "print(csv_data.query('column > @value'))"
      ],
      "metadata": {
        "id": "4q3XoN3exm_C"
      },
      "execution_count": null,
      "outputs": []
    },
    {
      "cell_type": "code",
      "source": [
        "# Handling Missing Data\n",
        "print(csv_data.isnull())\n",
        "print(csv_data.notnull())\n",
        "print(csv_data.dropna())\n",
        "print(csv_data.fillna(value))"
      ],
      "metadata": {
        "id": "R1KUpEN5xtZJ"
      },
      "execution_count": null,
      "outputs": []
    },
    {
      "cell_type": "code",
      "source": [
        "# Manipulating Data\n",
        "grouped_data = csv_data.groupby('group_column')\n",
        "sorted_data = csv_data.sort_values(by='column_to_sort')\n",
        "pivot_table = csv_data.pivot_table(index='index_column', columns='column_to_pivot', values='value_column')\n",
        "melted_data = csv_data.melt(id_vars=['id_var1', 'id_var2'], value_vars=['val_var1', 'val_var2'])\n"
      ],
      "metadata": {
        "id": "mSC6rNRYxzhd"
      },
      "execution_count": null,
      "outputs": []
    },
    {
      "cell_type": "code",
      "source": [
        "# Combining DataFrames\n",
        "concatenated_data = pd.concat([df1, df2])\n",
        "merged_data = pd.merge(df1, df2, on='common_column')\n"
      ],
      "metadata": {
        "id": "OYYrJYmxx3y0"
      },
      "execution_count": null,
      "outputs": []
    },
    {
      "cell_type": "code",
      "source": [
        "# Changing Data\n",
        "csv_data['new_column'] = csv_data['old_column'].apply(your_function)\n",
        "csv_data['mapped_column'] = csv_data['original_column'].map(your_mapping)\n"
      ],
      "metadata": {
        "id": "QpmyHx59yANT"
      },
      "execution_count": null,
      "outputs": []
    },
    {
      "cell_type": "code",
      "source": [
        "# Time Series Analysis\n",
        "csv_data['date_column'] = pd.to_datetime(csv_data['date_column'])\n",
        "resampled_data = csv_data.resample('D', on='date_column').sum()\n",
        "shifted_data = csv_data.shift(periods=1)"
      ],
      "metadata": {
        "id": "ZJtBhPCfyEhB"
      },
      "execution_count": null,
      "outputs": []
    },
    {
      "cell_type": "code",
      "source": [
        "# Statistical Functions\n",
        "print(csv_data.mean())\n",
        "print(csv_data.median())\n",
        "print(csv_data.std())\n",
        "print(csv_data.corr())"
      ],
      "metadata": {
        "id": "gYNZg6c5yP_z"
      },
      "execution_count": null,
      "outputs": []
    },
    {
      "cell_type": "code",
      "source": [
        "# Data Cleaning\n",
        "renamed_data = csv_data.rename(columns={'old_name': 'new_name'})\n",
        "cleaned_data = csv_data.drop(['column_to_drop'], axis=1)"
      ],
      "metadata": {
        "id": "bG8WBH61yPyX"
      },
      "execution_count": null,
      "outputs": []
    },
    {
      "cell_type": "code",
      "source": [
        "# File Output\n",
        "csv_data.to_csv('output_file.csv', index=False)\n",
        "csv_data.to_excel('output_file.xlsx', index=False)"
      ],
      "metadata": {
        "id": "wrT8GLjXyPif"
      },
      "execution_count": null,
      "outputs": []
    }
  ],
  "metadata": {
    "colab": {
      "provenance": [],
      "include_colab_link": true
    },
    "kernelspec": {
      "display_name": "Python 3",
      "name": "python3"
    },
    "language_info": {
      "name": "python"
    }
  },
  "nbformat": 4,
  "nbformat_minor": 0
}