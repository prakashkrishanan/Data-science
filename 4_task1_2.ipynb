{
  "nbformat": 4,
  "nbformat_minor": 0,
  "metadata": {
    "colab": {
      "provenance": [],
      "authorship_tag": "ABX9TyNmuUwk0Kjnkp+dy0Faqh4T",
      "include_colab_link": true
    },
    "kernelspec": {
      "name": "python3",
      "display_name": "Python 3"
    },
    "language_info": {
      "name": "python"
    }
  },
  "cells": [
    {
      "cell_type": "markdown",
      "metadata": {
        "id": "view-in-github",
        "colab_type": "text"
      },
      "source": [
        "<a href=\"https://colab.research.google.com/github/prakashkrishanan/Data-science/blob/main/4_task1_2.ipynb\" target=\"_parent\"><img src=\"https://colab.research.google.com/assets/colab-badge.svg\" alt=\"Open In Colab\"/></a>"
      ]
    },
    {
      "cell_type": "markdown",
      "source": [
        "a. Write a NumPy program to convert an array to a float type"
      ],
      "metadata": {
        "id": "X32UPk9uz-v0"
      }
    },
    {
      "cell_type": "code",
      "source": [
        "import numpy as np\n",
        "\n",
        "# Creating an integer array\n",
        "int_array = np.array([1, 2, 3, 4, 5])\n",
        "\n",
        "# Converting the array to float\n",
        "float_array = int_array.astype(float)\n",
        "\n",
        "print(\"Original Array (Integer):\", int_array)\n",
        "print(\"Converted Array (Float):\", float_array)\n"
      ],
      "metadata": {
        "colab": {
          "base_uri": "https://localhost:8080/"
        },
        "id": "RrOkdTX_0HDC",
        "outputId": "b5c5bfe3-33c1-4e5d-f284-00dc171ce1a8"
      },
      "execution_count": null,
      "outputs": [
        {
          "output_type": "stream",
          "name": "stdout",
          "text": [
            "Original Array (Integer): [1 2 3 4 5]\n",
            "Converted Array (Float): [1. 2. 3. 4. 5.]\n"
          ]
        }
      ]
    },
    {
      "cell_type": "markdown",
      "source": [
        "b. Create an empty and a full array:"
      ],
      "metadata": {
        "id": "FDwrxlsD0KPi"
      }
    },
    {
      "cell_type": "code",
      "source": [
        "import numpy as np\n",
        "\n",
        "# Creating an empty array\n",
        "empty_array = np.empty((3, 3))\n",
        "\n",
        "# Creating a full array with a specific value\n",
        "full_array = np.full((2, 4), 7)\n",
        "\n",
        "print(\"Empty Array:\")\n",
        "print(empty_array)\n",
        "\n",
        "print(\"\\nFull Array:\")\n",
        "print(full_array)\n"
      ],
      "metadata": {
        "colab": {
          "base_uri": "https://localhost:8080/"
        },
        "id": "NJ8Z8MEA0ORy",
        "outputId": "24d2b726-8181-4da5-8dc5-90ea77dbf25b"
      },
      "execution_count": null,
      "outputs": [
        {
          "output_type": "stream",
          "name": "stdout",
          "text": [
            "Empty Array:\n",
            "[[4.84290625e-310 0.00000000e+000 0.00000000e+000]\n",
            " [0.00000000e+000 0.00000000e+000 0.00000000e+000]\n",
            " [0.00000000e+000 0.00000000e+000 0.00000000e+000]]\n",
            "\n",
            "Full Array:\n",
            "[[7 7 7 7]\n",
            " [7 7 7 7]]\n"
          ]
        }
      ]
    },
    {
      "cell_type": "markdown",
      "source": [
        "c. Convert a list and tuple into arrays:"
      ],
      "metadata": {
        "id": "TnR6aSMO0Q0U"
      }
    },
    {
      "cell_type": "code",
      "source": [
        "import numpy as np\n",
        "\n",
        "# Converting a list to an array\n",
        "list_data = [1, 2, 3, 4, 5]\n",
        "array_from_list = np.array(list_data)\n",
        "\n",
        "# Converting a tuple to an array\n",
        "tuple_data = (10, 20, 30, 40, 50)\n",
        "array_from_tuple = np.array(tuple_data)\n",
        "\n",
        "print(\"Array from List:\", array_from_list)\n",
        "print(\"Array from Tuple:\", array_from_tuple)\n"
      ],
      "metadata": {
        "colab": {
          "base_uri": "https://localhost:8080/"
        },
        "id": "rjpOteED0VbN",
        "outputId": "834f4a23-abf5-40d1-b916-b029a72902b6"
      },
      "execution_count": null,
      "outputs": [
        {
          "output_type": "stream",
          "name": "stdout",
          "text": [
            "Array from List: [1 2 3 4 5]\n",
            "Array from Tuple: [10 20 30 40 50]\n"
          ]
        }
      ]
    },
    {
      "cell_type": "markdown",
      "source": [
        "d. Find the real and imaginary parts of an array of complex numbers:"
      ],
      "metadata": {
        "id": "dcWSFTLX0YyL"
      }
    },
    {
      "cell_type": "code",
      "source": [
        "import numpy as np\n",
        "\n",
        "# Creating an array of complex numbers\n",
        "complex_array = np.array([1 + 2j, 3 - 4j, 5 + 6j])\n",
        "\n",
        "# Extracting real and imaginary parts\n",
        "real_parts = np.real(complex_array)\n",
        "imaginary_parts = np.imag(complex_array)\n",
        "\n",
        "print(\"Original Complex Array:\", complex_array)\n",
        "print(\"Real Parts:\", real_parts)\n",
        "print(\"Imaginary Parts:\", imaginary_parts)\n"
      ],
      "metadata": {
        "colab": {
          "base_uri": "https://localhost:8080/"
        },
        "id": "5VbCMjER0c8E",
        "outputId": "bae088d3-f3f8-49b5-f0e6-edbd776d7807"
      },
      "execution_count": null,
      "outputs": [
        {
          "output_type": "stream",
          "name": "stdout",
          "text": [
            "Original Complex Array: [1.+2.j 3.-4.j 5.+6.j]\n",
            "Real Parts: [1. 3. 5.]\n",
            "Imaginary Parts: [ 2. -4.  6.]\n"
          ]
        }
      ]
    }
  ]
}